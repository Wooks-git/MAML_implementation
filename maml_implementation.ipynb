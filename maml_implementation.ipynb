{
 "cells": [
  {
   "cell_type": "code",
   "execution_count": 1,
   "metadata": {
    "colab": {},
    "colab_type": "code",
    "id": "4S6rTEbJmAuu"
   },
   "outputs": [],
   "source": [
    "#import packages\n",
    "import torch\n",
    "import torch.nn as nn\n",
    "import torch.nn.functional as F\n",
    "import numpy as np\n",
    "from collections import OrderedDict\n",
    "import matplotlib.pyplot as plt\n",
    "%matplotlib inline\n",
    "import copy\n",
    "from tqdm import tqdm"
   ]
  },
  {
   "cell_type": "code",
   "execution_count": 2,
   "metadata": {
    "colab": {},
    "colab_type": "code",
    "id": "fsVwjyEdYm0L"
   },
   "outputs": [],
   "source": [
    "device=torch.device(\"cuda\" if torch.cuda.is_available() else \"cpu\")"
   ]
  },
  {
   "cell_type": "code",
   "execution_count": 12,
   "metadata": {
    "colab": {},
    "colab_type": "code",
    "id": "WMvLg3p2mCed"
   },
   "outputs": [],
   "source": [
    "#sine data 생성\n",
    "class SineTask():\n",
    "    def __init__(self,amp,phase,min_x,max_x):\n",
    "        self.phase=phase #phase\n",
    "        self.max_x=max_x #input x 최대값\n",
    "        self.min_x=min_x #input x 최소값\n",
    "        self.amp=amp #amplitude\n",
    "    \n",
    "    def sample_data(self,size=1):\n",
    "        x=np.random.uniform(self.max_x,self.min_x,size) #input x를 [min_x, max_x] 범위에서 샘플링 size : k-shot\n",
    "        y=self.true_sine(x)\n",
    "        x=torch.tensor(x, dtype=torch.float).unsqueeze(1)\n",
    "        y=torch.tensor(y, dtype=torch.float).unsqueeze(1)\n",
    "        return x,y\n",
    "    def true_sine(self,x):\n",
    "        y=self.amp*np.sin(self.phase+x) #sine파 생성(label)\n",
    "        return y\n",
    "\n",
    "#생성할 sine의 amplitude와 phase에 따른 분포에 맞도록 해줌\n",
    "class SineDistribution():\n",
    "    def __init__(self,min_amp,max_amp,min_phase,max_phase,min_x,max_x):\n",
    "        self.min_amp=min_amp #minimum amplitude\n",
    "        self.max_amp=max_amp #maximum amplitude\n",
    "        self.max_phase=max_phase #maximum phase\n",
    "        self.min_phase=min_phase #minimum phase\n",
    "        self.min_x=min_x #minimum input x\n",
    "        self.max_x=max_x #maximum input x\n",
    "\n",
    "    def sample_task(self):\n",
    "        amp = np.random.uniform(self.min_amp, self.max_amp)\n",
    "        phase = np.random.uniform(self.min_phase, self.max_phase)\n",
    "        return SineTask(amp, phase, self.min_x, self.max_x)"
   ]
  },
  {
   "cell_type": "code",
   "execution_count": 4,
   "metadata": {
    "colab": {},
    "colab_type": "code",
    "id": "K7ciZw3qngSn"
   },
   "outputs": [],
   "source": [
    "class SineNet(nn.Module):\n",
    "    def __init__(self):\n",
    "        super(SineNet,self).__init__()\n",
    "        self.net=nn.Sequential(OrderedDict([\n",
    "                ('l1',nn.Linear(1,40)),\n",
    "                ('relu1',nn.ReLU()),\n",
    "                ('l2',nn.Linear(40,40)),\n",
    "                ('relu2',nn.ReLU()),\n",
    "                ('l3',nn.Linear(40,1))\n",
    "            ]))\n",
    "    \n",
    "    def forward(self,x):\n",
    "        return self.net(x)\n",
    "    \n",
    "    def argforward(self,x,weights):\n",
    "        x=F.linear(x,weights[0],weights[1])\n",
    "        x=F.relu(x)\n",
    "        x=F.linear(x,weights[2],weights[3])           \n",
    "        x=F.relu(x)\n",
    "        x=F.linear(x,weights[4],weights[5])\n",
    "        return x"
   ]
  },
  {
   "cell_type": "code",
   "execution_count": 5,
   "metadata": {
    "colab": {},
    "colab_type": "code",
    "id": "7K8xVB8hvidC"
   },
   "outputs": [],
   "source": [
    "#defining implementation class\n",
    "class SineMAML():\n",
    "    def __init__(self,net,alpha,beta,tasks,k,num_metatasks): #tasks=sinetask, sine_tasks=SineDistribution(0.1, 5, 0, np.pi, -5, 5)\n",
    "        self.net=net\n",
    "        self.weights=list(net.parameters())\n",
    "        self.alpha=alpha\n",
    "        self.beta=beta\n",
    "        self.tasks=tasks\n",
    "        self.k=k \n",
    "        self.num_tasks_meta=num_metatasks\n",
    "        self.criterion=nn.MSELoss()\n",
    "        self.meta_optimizer=torch.optim.Adam(self.weights,self.beta)\n",
    "        self.meta_losses=[]\n",
    "        self.plot_every =10\n",
    "        self.print_every = 500\n",
    "        self.num_metatasks=num_metatasks\n",
    "        \n",
    "    def inner_loop(self,task):\n",
    "        temp_weights=[w.clone() for w in self.weights]\n",
    "        x,y=task.sample_data(size=self.k) #sampling D\n",
    "        x=x.to(device)\n",
    "        y=y.to(device)\n",
    "        output=self.net.argforward(x,temp_weights)\n",
    "        loss=self.criterion(output,y)/self.k\n",
    "        grads=torch.autograd.grad(loss,temp_weights)\n",
    "        temp_weights=[w-self.alpha*g for w,g in zip(temp_weights,grads)] #theta_i의 파라미터 업데이트\n",
    "        \n",
    "        x,y=task.sample_data(size=self.k) #sampling D'\n",
    "        x=x.to(device)\n",
    "        y=y.to(device)\n",
    "        output=self.net.argforward(x,temp_weights)\n",
    "        metaloss=self.criterion(output,y)/self.k\n",
    "        return metaloss\n",
    "\n",
    "    def outer_loop(self,num_epochs):\n",
    "        total_loss=0\n",
    "        for epoch in tqdm(range(1,num_epochs+1)):\n",
    "            metaloss_sum=0\n",
    "            for i in range(self.num_metatasks):\n",
    "                task=self.tasks.sample_task()\n",
    "                metaloss=self.inner_loop(task)\n",
    "                metaloss_sum+=metaloss\n",
    "            metagrads=torch.autograd.grad(metaloss_sum,self.weights)\n",
    "\n",
    "            for w,g in zip(self.weights,metagrads):\n",
    "                w.grad=g\n",
    "          ###############\n",
    "            self.meta_optimizer.step()\n",
    "            total_loss+=metaloss_sum.item()/self.num_metatasks\n",
    "\n",
    "            # if epoch % self.print_every == 0:\n",
    "            #     print(\"{}/{}. loss: {}\".format(epoch, num_epochs, total_loss / self.plot_every))\n",
    "            if epoch%self.plot_every==0:\n",
    "                self.meta_losses.append(total_loss/self.plot_every)\n",
    "                total_loss = 0\n",
    "            # if (epoch%1)==0:\n",
    "            #     print(\"Epoch \"+str(epoch)+\" completed.\")"
   ]
  },
  {
   "cell_type": "code",
   "execution_count": 6,
   "metadata": {
    "colab": {},
    "colab_type": "code",
    "id": "UPqPye5qHfYy"
   },
   "outputs": [],
   "source": [
    "sine_tasks=SineDistribution(0.1, 5, 0, np.pi, -5, 5)\n",
    "net=SineNet()\n",
    "net=net.to(device)\n",
    "maml=SineMAML(net,alpha=0.01,beta=0.001,tasks=sine_tasks,k=5,num_metatasks=10000)"
   ]
  },
  {
   "cell_type": "code",
   "execution_count": 7,
   "metadata": {
    "colab": {
     "base_uri": "https://localhost:8080/",
     "height": 35
    },
    "colab_type": "code",
    "id": "CFRFiVtXIOPl",
    "outputId": "a318b6c0-30a9-43dd-cc75-3f322db3b9ac",
    "tags": []
   },
   "outputs": [
    {
     "name": "stderr",
     "output_type": "stream",
     "text": [
      "100%|██████████████████████████████████████████████████████████████████████████████| 300/300 [1:42:32<00:00, 20.51s/it]\n"
     ]
    }
   ],
   "source": [
    "maml.outer_loop(num_epochs=300)"
   ]
  },
  {
   "cell_type": "code",
   "execution_count": 8,
   "metadata": {
    "colab": {
     "base_uri": "https://localhost:8080/",
     "height": 287
    },
    "colab_type": "code",
    "id": "DbTWwaSQIPjO",
    "outputId": "49191392-f363-4574-f720-29ac6404c3e1"
   },
   "outputs": [
    {
     "data": {
      "text/plain": [
       "[<matplotlib.lines.Line2D at 0x1dd0684ce80>]"
      ]
     },
     "execution_count": 8,
     "metadata": {},
     "output_type": "execute_result"
    },
    {
     "data": {
      "image/png": "[encoded data removed]",
      "text/plain": [
       "<Figure size 432x288 with 1 Axes>"
      ]
     },
     "metadata": {
      "needs_background": "light"
     },
     "output_type": "display_data"
    }
   ],
   "source": [
    "plt.plot(maml.meta_losses)"
   ]
  },
  {
   "cell_type": "code",
   "execution_count": 494,
   "metadata": {
    "colab": {},
    "colab_type": "code",
    "id": "ySJKCbVXgJ8j"
   },
   "outputs": [],
   "source": [
    "def test(og_net,x,y,lr,optim=torch.optim.SGD):\n",
    "    axis=np.linspace(-5,5,1000)\n",
    "    axis=torch.tensor(axis,dtype=torch.float)\n",
    "    axis=axis.to(device)\n",
    "    model_architecture = nn.Sequential(OrderedDict([\n",
    "        ('l1', nn.Linear(1,40)),\n",
    "        ('relu1', nn.ReLU()),\n",
    "        ('l2', nn.Linear(40,40)),\n",
    "        ('relu2', nn.ReLU()),\n",
    "        ('l3', nn.Linear(40,1))\n",
    "    ]))\n",
    "    model_architecture=model_architecture.to(device)\n",
    "    model_architecture.load_state_dict(og_net.state_dict())\n",
    "    loss_fn=nn.MSELoss()\n",
    "    opt=optim(model_architecture.parameters(),lr=lr)\n",
    "    num_shots=5\n",
    "    k=x.shape[0]\n",
    "    losses=[]\n",
    "    outputs={}\n",
    "    for i in range(num_shots):\n",
    "        out=model_architecture(x)\n",
    "        loss=loss_fn(out,y)\n",
    "        losses.append(loss.item())\n",
    "        loss.backward()\n",
    "        opt.step()\n",
    "        model_architecture.zero_grad()\n",
    "    outputs['minitrained']= model_architecture(axis.view(-1, 1)).detach().cpu().clone().numpy()\n",
    "    outputs['initial']= og_net(torch.tensor(axis).view(-1, 1)).detach().cpu().clone().numpy()\n",
    "    # print(losses)\n",
    "    return outputs,axis\n"
   ]
  },
  {
   "cell_type": "code",
   "execution_count": 495,
   "metadata": {
    "colab": {},
    "colab_type": "code",
    "id": "LktDQFNkPJuZ"
   },
   "outputs": [],
   "source": [
    "def plot_test(og_net,x,y,task,optim=torch.optim.SGD,lr=0.01):\n",
    "    outputs,axis=test(og_net,x,y,lr,optim)\n",
    "    plt.figure(figsize=(10,5))\n",
    "    plt.plot(axis.cpu().clone().numpy(),task.true_sine(axis.cpu().clone().numpy()), '-', color=(0, 0, 1, 0.5), label='true sine')\n",
    "    plt.scatter(x.cpu().clone().numpy(), y.cpu().clone().numpy(), label='data')\n",
    "    plt.plot(axis.cpu().clone().numpy(), outputs['initial'], ':', color=(0.7, 0, 0, 1), label='initial weights')\n",
    "    plt.plot(axis.cpu().clone().numpy(), outputs['minitrained'], '-', color=(0.5, 0, 0, 1), label='one-step update weights')\n",
    "    plt.legend(loc='lower right')\n",
    "    plt.show()"
   ]
  },
  {
   "cell_type": "code",
   "execution_count": 499,
   "metadata": {
    "colab": {
     "base_uri": "https://localhost:8080/",
     "height": 380
    },
    "colab_type": "code",
    "id": "r7QJovAaZzG8",
    "outputId": "ea3f62ba-3e15-4b1a-e538-0ddfacaa255d"
   },
   "outputs": [
    {
     "name": "stderr",
     "output_type": "stream",
     "text": [
      "C:\\Users\\SEONGW~1\\AppData\\Local\\Temp/ipykernel_16372/690121219.py:28: UserWarning: To copy construct from a tensor, it is recommended to use sourceTensor.clone().detach() or sourceTensor.clone().detach().requires_grad_(True), rather than torch.tensor(sourceTensor).\n",
      "  outputs['initial']= og_net(torch.tensor(axis).view(-1, 1)).detach().cpu().clone().numpy()\n"
     ]
    },
    {
     "data": {
      "image/png": "[encoded data removed]",
      "text/plain": [
       "<Figure size 720x360 with 1 Axes>"
      ]
     },
     "metadata": {
      "needs_background": "light"
     },
     "output_type": "display_data"
    }
   ],
   "source": [
    "K=5\n",
    "task=sine_tasks.sample_task()\n",
    "x,y=task.sample_data(K)\n",
    "x=x.to(device)\n",
    "y=y.to(device)\n",
    "plot_test(og_net=maml.net.net,x=x,y=y,task=task)"
   ]
  },
  {
   "cell_type": "code",
   "execution_count": null,
   "metadata": {
    "colab": {},
    "colab_type": "code",
    "id": "Oe-WA7H4d3vU"
   },
   "outputs": [],
   "source": []
  }
 ],
 "metadata": {
  "accelerator": "GPU",
  "colab": {
   "collapsed_sections": [],
   "name": "MAML POC (Sine).ipynb",
   "provenance": [],
   "version": "0.3.2"
  },
  "kernelspec": {
   "display_name": "swpark_conda",
   "language": "python",
   "name": "swpark"
  },
  "language_info": {
   "codemirror_mode": {
    "name": "ipython",
    "version": 3
   },
   "file_extension": ".py",
   "mimetype": "text/x-python",
   "name": "python",
   "nbconvert_exporter": "python",
   "pygments_lexer": "ipython3",
   "version": "3.9.7"
  }
 },
 "nbformat": 4,
 "nbformat_minor": 4
}
